{
 "cells": [
  {
   "cell_type": "markdown",
   "id": "b29837f9",
   "metadata": {},
   "source": [
    "Welcome to my Neural Network (NN) for predicting small molecule toxicity!\n",
    "\n",
    "First thing's first, I do not recommend testing the models predictive capacity by eating one or more of the molecules it says are safe\n",
    "\n",
    "Second thing's second, as an MD course you're not expected to understand everything I'm writing down here. I'll put a number in brackets (eg. [1]) to indicate some of these things, and I'll have a little markdown index at the bottom where I cover each of those things in more detail if you're interested in learning more!\n",
    "\n",
    "\n",
    "\n",
    "\n",
    "This project is meant to be an example code for a Molecular Dynamics class at UCONN for a simple Convolutional Neural Network (CNN, [0]) that predicts small molecule toxicity as a way of breifly introducing ML, so I'm not going to dig too deep into the weeds of how this works here. The dataset is awesome, it's the ToxCast dataset from moleculenet.org, and it consists of 617 different assay results for almost 8600 small molecules (in the form of SMILES([1]) strings). \n",
    "\n",
    "So here we'll go through the different parts of setting up an ML model with the help of pandas and numpy, and then we'll train on the dataset for different hyperparameters and see how well it learns! The current version has an F1 score of ~.834, which I'll discuss more when we get there but for data that's as skewed as we'll see this is, it's a better metric than general accuracy for how well the model is performing.\n",
    "\n",
    "\n",
    "Regardless, enjoy running through, it should be fairly straightforward to follow and there are graphs and outputs to indicate how things are going! \n",
    "\n",
    "\"I can't promise it won't poision you, but I can promise that if it does it'll look good doing it!\"\n"
   ]
  },
  {
   "cell_type": "code",
   "execution_count": 1,
   "id": "771c65a7-2fcf-4345-a66d-1b3ee53b77f4",
   "metadata": {},
   "outputs": [],
   "source": [
    "#importing modules\n",
    "import pandas as pd\n",
    "import numpy as np\n",
    "import matplotlib.pyplot as plt\n",
    "from sklearn.model_selection import train_test_split\n",
    "from sklearn.preprocessing import MultiLabelBinarizer\n",
    "from tensorflow.keras.preprocessing.text import Tokenizer\n",
    "from tensorflow.keras.preprocessing.sequence import pad_sequences\n",
    "from tensorflow.keras.models import Sequential\n",
    "from tensorflow.keras.layers import Embedding, Conv1D, GlobalMaxPooling1D, Dense, Dropout, Input\n",
    "from tensorflow.keras.optimizers import Adam\n",
    "from tensorflow.keras.losses import BinaryCrossentropy\n",
    "import tensorflow.keras.callbacks as callbacks\n",
    "from tensorflow.keras.regularizers import l2\n",
    "from sklearn.metrics import hamming_loss, f1_score\n",
    "\n",
    "\n",
    "\n",
    "\n",
    "\n"
   ]
  },
  {
   "cell_type": "markdown",
   "id": "373de987-d6d1-4f17-97b4-545727592ef7",
   "metadata": {},
   "source": [
    "Okay so after importing all those modules (if you couldn't tell we're using tensorflow[2]), it's time to load and sort out the toxcast data.\n",
    "\n",
    "We'll pull it out as a pandas dataframe, setting labels equal to the molecules undergoing testing. The dataset isn't complete because not all molecules underwent all tets, so a 0 is put in the place of missing values\n",
    "    I recognize this isn't the best way to handle missing data generally, don't assume a mushroom is edible because nobody's eaten it before.\n",
    "\n",
    "From there we turn the pandas datasets into numpy arrays, which I'm much more of a fan of. It's always good to visualize your data (thanks Andrew Ng!), so I've also included here the shape of matrix y, so it's clear here that the 0th dimension holds our molecules and the 1st holds our assays (dimensions in numpy start indexing at 0 so the dimensions printed will be Dim-1).\n",
    "\n",
    "We also have a \"smiles\" vector that contains the molecule SMILES string. This should be the same length \n",
    "\n",
    "\n",
    "\n",
    "\n",
    ", which should contain all the 617 different toxicology assays for all 8598 molecules, as well as the shape of the smiles variable containing the smiles string for all of that data, and I've printed out the first 2 items in the smiles vector to double-check.\n",
    "\n",
    "Then, of course, there's the graph, which just shows the difference between the counts of 0s and 1s in the data, with 1s being an order of magnitude lower than 0s. This isn't super important until we squash all the toxic data into one single vector instead of this matrix of the different types of toxic, so we'll look at another later."
   ]
  },
  {
   "cell_type": "code",
   "execution_count": 2,
   "id": "7d58c22b-0d50-48d1-8ba4-ecde3aacd80e",
   "metadata": {},
   "outputs": [
    {
     "name": "stdout",
     "output_type": "stream",
     "text": [
      "Length of dimension 0: 8597\n",
      "y shape is (8597, 617)\n",
      "total size: 5304349\n"
     ]
    }
   ],
   "source": [
    "## # Loading toxcast data (pandas df)\n",
    "toxcast_df = pd.read_csv('toxcast_data.csv')\n",
    "# Selecting relevant columns (all labels excluding SMILES)\n",
    "labels = toxcast_df.columns[1:].tolist()\n",
    "# Filling missing values with 0 and making them integers\n",
    "toxcast_df[labels] = toxcast_df[labels].fillna(0).astype(int)\n",
    "\n",
    "# Convert to numpy arrays\n",
    "smiles = toxcast_df['smiles'].values\n",
    "y = toxcast_df[labels].values\n",
    "\n",
    "for i, length in enumerate(smiles.shape):\n",
    "    print(f\"Length of dimension {i}: {length}\")\n",
    "\n",
    "#checking out our new arrays\n",
    "print(f\"y shape is {y.shape}\")\n",
    "print(f\"total size: {y.size}\")"
   ]
  },
  {
   "cell_type": "markdown",
   "id": "71d4cf45-684c-431a-8035-e2828430e72f",
   "metadata": {},
   "source": [
    "We also have a \"smiles\" vector that contains the molecule SMILES string. This should be the same length as the 0th dimension of our array y, which indicates a match between the molecule and it's results. We can see that by printing the shape of smiles. We're also printing the first two smiles strings so you can see what they look like."
   ]
  },
  {
   "cell_type": "code",
   "execution_count": 3,
   "id": "e9a15c42-ad94-4bbe-94cb-dd6c97752506",
   "metadata": {},
   "outputs": [
    {
     "name": "stdout",
     "output_type": "stream",
     "text": [
      "smiles shae is:(8597,)\n",
      "['[O-][N+](=O)C1=CC=C(Cl)C=C1' 'C[SiH](C)O[Si](C)(C)O[Si](C)(C)O[SiH](C)C'] 0\n"
     ]
    }
   ],
   "source": [
    "#print(y[0:10], 0)\n",
    "print(f\"smiles shae is:{smiles.shape}\")\n",
    "print(smiles[0:2], 0)"
   ]
  },
  {
   "cell_type": "markdown",
   "id": "7e7b218a-f4ab-4c36-b810-0ed5a88dce4a",
   "metadata": {},
   "source": [
    "Next let's make a graph of the relative numbers of 0s and 1s in the dataset. in this dataset a 0 indicates that a molecule either passed a particular test or didn't undergo a particular test, and a 1 indicates that a molecule was cytotoxic in that test.\n",
    "\n",
    "I want to make clear here that this graph isn't terribly important beyond being a cool comparison to a later graph. This is because, to simplify the model, we're taking any molecule that was cytotoxic in any assay as being toxic, so we'll be making a separate matrix that's a lot smaller and easier to quickly train on."
   ]
  },
  {
   "cell_type": "code",
   "execution_count": 4,
   "id": "79cc635d-83e8-4aeb-86a7-ba7f379373cf",
   "metadata": {},
   "outputs": [
    {
     "data": {
      "image/png": "[encoded data removed]",
      "text/plain": [
       "<Figure size 800x600 with 1 Axes>"
      ]
     },
     "metadata": {},
     "output_type": "display_data"
    }
   ],
   "source": [
    "#Take a look at the difference in quantity of 0 and 1. There's a full order of magnitude difference\n",
    "plt.figure(figsize=(8, 6))\n",
    "counts = [np.sum(y == 0), np.sum(y == 1)]\n",
    "bars = plt.bar(['0s', '1s'], counts)\n",
    "plt.title('Counts of 0s and 1s in y array')\n",
    "plt.xlabel('Value')\n",
    "plt.ylabel('Count')\n",
    "for bar, count in zip(bars, counts):\n",
    "    plt.text(bar.get_x() + bar.get_width()/2., bar.get_height(), count, \n",
    "             ha='center', va='bottom', fontsize=10)\n",
    "plt.show()"
   ]
  },
  {
   "cell_type": "markdown",
   "id": "e5625681-d273-43ff-93b8-beb343cba58c",
   "metadata": {},
   "source": [
    "Now let's take a look at how those counts have changed after creating a vector that is positive if any item in the corresponding array is positivve (if it's toxic to anything it's toxic to everything in this model). This is going to be the equivalent of the y_overall_toxicity vector."
   ]
  },
  {
   "cell_type": "code",
   "execution_count": 5,
   "id": "0d972a62-46a6-46aa-863d-154c9db5fd2b",
   "metadata": {},
   "outputs": [
    {
     "name": "stdout",
     "output_type": "stream",
     "text": [
      "(8597,)\n"
     ]
    },
    {
     "data": {
      "image/png": "[encoded data removed]",
      "text/plain": [
       "<Figure size 800x600 with 1 Axes>"
      ]
     },
     "metadata": {},
     "output_type": "display_data"
    }
   ],
   "source": [
    "y_overall_toxicity = (y.sum(axis=1) > 0).astype(int)\n",
    "print(y_overall_toxicity.shape)\n",
    "\n",
    "plt.figure(figsize=(8, 6))\n",
    "counts = [np.sum(y_overall_toxicity == 0), np.sum(y_overall_toxicity == 1)]\n",
    "bars = plt.bar(['0s', '1s'], counts)\n",
    "plt.title('Counts of 0s and 1s in y vector')\n",
    "plt.xlabel('Value')\n",
    "plt.ylabel('Count')\n",
    "for bar, count in zip(bars, counts):\n",
    "    plt.text(bar.get_x() + bar.get_width()/2., bar.get_height(), count, \n",
    "             ha='center', va='bottom', fontsize=10)\n",
    "plt.show()"
   ]
  },
  {
   "cell_type": "markdown",
   "id": "548a82e1-ed68-4001-9924-921f63ac4bc0",
   "metadata": {},
   "source": [
    "So it's clear that there are ~3x more positive values than negative. This will have real-world implications on our analysis, so don't forget it!\n",
    "\n",
    "Next up, we want to tokenize([3]) the smiles strings in order to make predictions about them by being able to recognize key components. We also pad([4]) them so they can all be accepted into the neural network properly, otherwise the size difference would cause an error."
   ]
  },
  {
   "cell_type": "code",
   "execution_count": 6,
   "id": "a2b49b4a-9a75-40ba-a3d6-fff094ba107b",
   "metadata": {},
   "outputs": [],
   "source": [
    "tokenizer = Tokenizer(char_level=True)\n",
    "tokenizer.fit_on_texts(smiles)\n",
    "sequences = tokenizer.texts_to_sequences(smiles)\n",
    "max_seq_length = max(len(seq) for seq in sequences)\n",
    "X = pad_sequences(sequences, maxlen=max_seq_length, padding='post')\n"
   ]
  },
  {
   "cell_type": "markdown",
   "id": "39d093b0-a054-4c1c-8a76-9d6189c32859",
   "metadata": {},
   "source": [
    "So now we make np arrays out out of our padded smiles vector, now called simply X, and y_overall_toxicity."
   ]
  },
  {
   "cell_type": "code",
   "execution_count": 7,
   "id": "4c354006-818a-4439-807e-78e814fac02e",
   "metadata": {},
   "outputs": [],
   "source": [
    "X = np.array(X)\n",
    "#y = np.array(y)\n",
    "y_overall_toxicity = np.array(y_overall_toxicity)\n"
   ]
  },
  {
   "cell_type": "markdown",
   "id": "a7343975-e877-44a4-ab3b-fa80501b7668",
   "metadata": {},
   "source": [
    "So we've  made our np arrays, it's noow time to split the training dadta into training, Cross-Validation (CV), and validation test sets.\n",
    "\n",
    "The general idea behind these three sets is that you can start by training on the training data (obviously), but if the model overfits[3] it'll do very well with the training data but very poorly on any data that wasn't in the training set. We aim to fix this by giving it a test on the CV set first to get a better idea of how it performs on new data, then repeat until we're ready to run on the test set and get a true estimate of the predictive capability of our model.\n",
    "\n",
    "So here I've printed some values that may seem random at first (especially because of random.randint). Basically we pick a random integer within the size of dimension X 0 and we pull out the SMILES string associated with that value. From there, we take a look at the tokenized version of that particular SMILES string, and then the padded tokenized version. You can see the padded one is larger and a lot heavier on the 0s (statistically, maybe someone someday will randomly catch the big Kahuna). What's happened there is that the tokens are numbers corresponding to the value of that index in the smiles string, with things like 1 representing the C (carbon atom) or 7 representing N (Nitrogen atom), or even 3 representing an open parentheses. All of these numbers make the text input readable by the neural network, it turns it into math for the computer.\n",
    "\n",
    "So the padded version with all the 0s is basically a way of making sure all molecules that enter the NN are the same size. The NN will learn very quickly that all those 0s at the end aren't useful to it, but it needs them anyway."
   ]
  },
  {
   "cell_type": "code",
   "execution_count": 8,
   "id": "714c25a9-e04a-4567-b304-15a69f9d111f",
   "metadata": {},
   "outputs": [
    {
     "name": "stdout",
     "output_type": "stream",
     "text": [
      "4778\n",
      "C1CC=CCCC=CCCC=C1\n",
      "Sample tokenized SMILES: [1, 6, 1, 1, 2, 1, 1, 1, 1, 2, 1, 1, 1, 1, 2, 1, 6]\n",
      "Padded tokenized SMILES: [1 6 1 1 2 1 1 1 1 2 1 1 1 1 2 1 6 0 0 0 0 0 0 0 0 0 0 0 0 0 0 0 0 0 0 0 0\n",
      " 0 0 0 0 0 0 0 0 0 0 0 0 0 0 0 0 0 0 0 0 0 0 0 0 0 0 0 0 0 0 0 0 0 0 0 0 0\n",
      " 0 0 0 0 0 0 0 0 0 0 0 0 0 0 0 0 0 0 0 0 0 0 0 0 0 0 0 0 0 0 0 0 0 0 0 0 0\n",
      " 0 0 0 0 0 0 0 0 0 0 0 0 0 0 0 0 0 0 0 0 0 0 0 0 0 0 0 0 0 0 0 0 0 0 0 0 0\n",
      " 0 0 0 0 0 0 0 0 0 0 0 0 0 0 0 0 0 0 0 0 0 0 0 0 0 0 0 0 0 0 0 0 0 0 0 0 0\n",
      " 0 0 0 0 0 0 0 0 0 0 0 0 0 0 0 0 0 0 0 0 0 0 0 0 0 0 0 0 0 0 0 0 0 0 0 0 0\n",
      " 0 0 0 0 0 0 0 0 0 0 0 0 0 0 0 0 0 0 0 0 0 0 0 0 0 0 0 0 0 0 0 0 0 0 0 0 0\n",
      " 0 0 0 0 0 0 0 0 0 0 0 0 0 0 0 0 0 0 0 0 0 0 0 0 0 0 0 0 0 0 0 0 0 0 0 0 0\n",
      " 0 0 0 0 0 0 0 0 0 0 0 0 0 0 0 0 0 0 0 0 0 0 0 0 0 0 0 0 0]\n"
     ]
    }
   ],
   "source": [
    "X_train, X_test, y_train, y_test = train_test_split(X, y_overall_toxicity, test_size=0.2, random_state=42)\n",
    "\n",
    "a = np.random.randint(0, 8575)\n",
    "print(a)\n",
    "print(smiles[a])\n",
    "print(f\"Sample tokenized SMILES: {sequences[a]}\")\n",
    "print(f\"Padded tokenized SMILES: {X[a]}\")"
   ]
  },
  {
   "cell_type": "markdown",
   "id": "2c2d513a-0a29-405f-8d24-9508f77c0355",
   "metadata": {},
   "source": [
    "Now we get to define our model. This particular one is a 1D CNN defined in the \"model\" parameter. I'll explain the specifics of what's going on in there at the end of the notebook, but basically we're building a model to train on. We then compile that model, and I'll talk more about that later as well. Basically this code gives us our CNN model that we'll then use to train on our dataset."
   ]
  },
  {
   "cell_type": "code",
   "execution_count": 9,
   "id": "1db8f07b-d2f6-4508-aa5a-a742f159e718",
   "metadata": {},
   "outputs": [
    {
     "name": "stderr",
     "output_type": "stream",
     "text": [
      "/Library/Frameworks/Python.framework/Versions/3.10/lib/python3.10/site-packages/keras/src/layers/core/embedding.py:90: UserWarning: Argument `input_length` is deprecated. Just remove it.\n",
      "  warnings.warn(\n"
     ]
    }
   ],
   "source": [
    "vocab_size = len(tokenizer.word_index) + 1\n",
    "embedding_dim = 128\n",
    "\n",
    "model = Sequential([\n",
    "    Embedding(input_dim=vocab_size, output_dim=embedding_dim, input_length=max_seq_length),\n",
    "    Conv1D(filters=128, kernel_size=5, activation='relu'),\n",
    "    GlobalMaxPooling1D(),\n",
    "    Dense(64, activation='relu'),\n",
    "    Dropout(0.6),\n",
    "    Dense(1, activation='sigmoid')\n",
    "])\n",
    "\n",
    "#callback = callbacks.EarlyStopping(monitor='loss', patience=3)\n",
    "\n",
    "model.compile(optimizer=Adam(learning_rate=0.001), loss=BinaryCrossentropy(), metrics=['accuracy'])"
   ]
  },
  {
   "cell_type": "markdown",
   "id": "00db2fe3-4191-4225-8611-b54447debba4",
   "metadata": {},
   "source": [
    "So we have our model! Now it's time to train it and see how we do! You'll notice that each epoch has a stated accuracy and loss; those are for the test data, not the validation data. Looking at improvements in accuracy in the training data is important because it tells us whether or not our model is complex enough to accurately represent the data. Seeing that value rise indicates that the model is complex enough to at least get a grasp of the data it has in a high-dimensional graph.\n",
    "\n",
    "The more important accuracies and losses are the val_accuracy and val_loss values, these correspond to the CV sets to see how our model does on new data. I haven't played around too long with the hyperparameters to fine-tune this model, but I'm still able to get a validation accuracy of around 73%, which is fairly impressive for a small neural network training on your laptop. That said, it's not the most important metric\n",
    "\n",
    "By the way, you may notice the 86/86 under each epoch next to the progress bar, that's the number of total instances in the batch (training + CV). We do 64 training runs from the training dataset (as shown in batch_size below) and then 20% of that for the CV (validation_split)"
   ]
  },
  {
   "cell_type": "code",
   "execution_count": 10,
   "id": "3703a27a-89cc-45ed-a249-251301701e48",
   "metadata": {},
   "outputs": [
    {
     "name": "stdout",
     "output_type": "stream",
     "text": [
      "Epoch 1/50\n",
      "\u001b[1m86/86\u001b[0m \u001b[32m━━━━━━━━━━━━━━━━━━━━\u001b[0m\u001b[37m\u001b[0m \u001b[1m4s\u001b[0m 35ms/step - accuracy: 0.7172 - loss: 0.6031 - val_accuracy: 0.7173 - val_loss: 0.5812\n",
      "Epoch 2/50\n",
      "\u001b[1m86/86\u001b[0m \u001b[32m━━━━━━━━━━━━━━━━━━━━\u001b[0m\u001b[37m\u001b[0m \u001b[1m3s\u001b[0m 34ms/step - accuracy: 0.7295 - loss: 0.5772 - val_accuracy: 0.7173 - val_loss: 0.5782\n",
      "Epoch 3/50\n",
      "\u001b[1m86/86\u001b[0m \u001b[32m━━━━━━━━━━━━━━━━━━━━\u001b[0m\u001b[37m\u001b[0m \u001b[1m3s\u001b[0m 33ms/step - accuracy: 0.7185 - loss: 0.5746 - val_accuracy: 0.7173 - val_loss: 0.5615\n",
      "Epoch 4/50\n",
      "\u001b[1m86/86\u001b[0m \u001b[32m━━━━━━━━━━━━━━━━━━━━\u001b[0m\u001b[37m\u001b[0m \u001b[1m3s\u001b[0m 33ms/step - accuracy: 0.7367 - loss: 0.5528 - val_accuracy: 0.7180 - val_loss: 0.5593\n",
      "Epoch 5/50\n",
      "\u001b[1m86/86\u001b[0m \u001b[32m━━━━━━━━━━━━━━━━━━━━\u001b[0m\u001b[37m\u001b[0m \u001b[1m3s\u001b[0m 37ms/step - accuracy: 0.7193 - loss: 0.5544 - val_accuracy: 0.7195 - val_loss: 0.5592\n",
      "Epoch 6/50\n",
      "\u001b[1m86/86\u001b[0m \u001b[32m━━━━━━━━━━━━━━━━━━━━\u001b[0m\u001b[37m\u001b[0m \u001b[1m3s\u001b[0m 35ms/step - accuracy: 0.7286 - loss: 0.5404 - val_accuracy: 0.7202 - val_loss: 0.5565\n",
      "Epoch 7/50\n",
      "\u001b[1m86/86\u001b[0m \u001b[32m━━━━━━━━━━━━━━━━━━━━\u001b[0m\u001b[37m\u001b[0m \u001b[1m3s\u001b[0m 37ms/step - accuracy: 0.7325 - loss: 0.5254 - val_accuracy: 0.7188 - val_loss: 0.5567\n",
      "Epoch 8/50\n",
      "\u001b[1m86/86\u001b[0m \u001b[32m━━━━━━━━━━━━━━━━━━━━\u001b[0m\u001b[37m\u001b[0m \u001b[1m3s\u001b[0m 37ms/step - accuracy: 0.7169 - loss: 0.5307 - val_accuracy: 0.7078 - val_loss: 0.5552\n",
      "Epoch 9/50\n",
      "\u001b[1m86/86\u001b[0m \u001b[32m━━━━━━━━━━━━━━━━━━━━\u001b[0m\u001b[37m\u001b[0m \u001b[1m3s\u001b[0m 36ms/step - accuracy: 0.7339 - loss: 0.5089 - val_accuracy: 0.7231 - val_loss: 0.5596\n",
      "Epoch 10/50\n",
      "\u001b[1m86/86\u001b[0m \u001b[32m━━━━━━━━━━━━━━━━━━━━\u001b[0m\u001b[37m\u001b[0m \u001b[1m3s\u001b[0m 34ms/step - accuracy: 0.7382 - loss: 0.4962 - val_accuracy: 0.7253 - val_loss: 0.5550\n",
      "Epoch 11/50\n",
      "\u001b[1m86/86\u001b[0m \u001b[32m━━━━━━━━━━━━━━━━━━━━\u001b[0m\u001b[37m\u001b[0m \u001b[1m3s\u001b[0m 33ms/step - accuracy: 0.7386 - loss: 0.4991 - val_accuracy: 0.7217 - val_loss: 0.5787\n",
      "Epoch 12/50\n",
      "\u001b[1m86/86\u001b[0m \u001b[32m━━━━━━━━━━━━━━━━━━━━\u001b[0m\u001b[37m\u001b[0m \u001b[1m3s\u001b[0m 32ms/step - accuracy: 0.7494 - loss: 0.4898 - val_accuracy: 0.7100 - val_loss: 0.5599\n",
      "Epoch 13/50\n",
      "\u001b[1m86/86\u001b[0m \u001b[32m━━━━━━━━━━━━━━━━━━━━\u001b[0m\u001b[37m\u001b[0m \u001b[1m3s\u001b[0m 33ms/step - accuracy: 0.7571 - loss: 0.4747 - val_accuracy: 0.7144 - val_loss: 0.5714\n",
      "Epoch 14/50\n",
      "\u001b[1m86/86\u001b[0m \u001b[32m━━━━━━━━━━━━━━━━━━━━\u001b[0m\u001b[37m\u001b[0m \u001b[1m3s\u001b[0m 33ms/step - accuracy: 0.7516 - loss: 0.4717 - val_accuracy: 0.6824 - val_loss: 0.5748\n",
      "Epoch 15/50\n",
      "\u001b[1m86/86\u001b[0m \u001b[32m━━━━━━━━━━━━━━━━━━━━\u001b[0m\u001b[37m\u001b[0m \u001b[1m3s\u001b[0m 35ms/step - accuracy: 0.7633 - loss: 0.4719 - val_accuracy: 0.7173 - val_loss: 0.5796\n",
      "Epoch 16/50\n",
      "\u001b[1m86/86\u001b[0m \u001b[32m━━━━━━━━━━━━━━━━━━━━\u001b[0m\u001b[37m\u001b[0m \u001b[1m3s\u001b[0m 35ms/step - accuracy: 0.7605 - loss: 0.4578 - val_accuracy: 0.7086 - val_loss: 0.6019\n",
      "Epoch 17/50\n",
      "\u001b[1m86/86\u001b[0m \u001b[32m━━━━━━━━━━━━━━━━━━━━\u001b[0m\u001b[37m\u001b[0m \u001b[1m3s\u001b[0m 34ms/step - accuracy: 0.7780 - loss: 0.4344 - val_accuracy: 0.6846 - val_loss: 0.5806\n",
      "Epoch 18/50\n",
      "\u001b[1m86/86\u001b[0m \u001b[32m━━━━━━━━━━━━━━━━━━━━\u001b[0m\u001b[37m\u001b[0m \u001b[1m4s\u001b[0m 41ms/step - accuracy: 0.7792 - loss: 0.4307 - val_accuracy: 0.6904 - val_loss: 0.5973\n",
      "Epoch 19/50\n",
      "\u001b[1m86/86\u001b[0m \u001b[32m━━━━━━━━━━━━━━━━━━━━\u001b[0m\u001b[37m\u001b[0m \u001b[1m3s\u001b[0m 38ms/step - accuracy: 0.7821 - loss: 0.4272 - val_accuracy: 0.7042 - val_loss: 0.6135\n",
      "Epoch 20/50\n",
      "\u001b[1m86/86\u001b[0m \u001b[32m━━━━━━━━━━━━━━━━━━━━\u001b[0m\u001b[37m\u001b[0m \u001b[1m3s\u001b[0m 36ms/step - accuracy: 0.7816 - loss: 0.4161 - val_accuracy: 0.7100 - val_loss: 0.6207\n",
      "Epoch 21/50\n",
      "\u001b[1m86/86\u001b[0m \u001b[32m━━━━━━━━━━━━━━━━━━━━\u001b[0m\u001b[37m\u001b[0m \u001b[1m3s\u001b[0m 32ms/step - accuracy: 0.8051 - loss: 0.4036 - val_accuracy: 0.7035 - val_loss: 0.5944\n",
      "Epoch 22/50\n",
      "\u001b[1m86/86\u001b[0m \u001b[32m━━━━━━━━━━━━━━━━━━━━\u001b[0m\u001b[37m\u001b[0m \u001b[1m3s\u001b[0m 34ms/step - accuracy: 0.8064 - loss: 0.3925 - val_accuracy: 0.6969 - val_loss: 0.6126\n",
      "Epoch 23/50\n",
      "\u001b[1m86/86\u001b[0m \u001b[32m━━━━━━━━━━━━━━━━━━━━\u001b[0m\u001b[37m\u001b[0m \u001b[1m3s\u001b[0m 34ms/step - accuracy: 0.7949 - loss: 0.4122 - val_accuracy: 0.6962 - val_loss: 0.6295\n",
      "Epoch 24/50\n",
      "\u001b[1m86/86\u001b[0m \u001b[32m━━━━━━━━━━━━━━━━━━━━\u001b[0m\u001b[37m\u001b[0m \u001b[1m3s\u001b[0m 33ms/step - accuracy: 0.8062 - loss: 0.3873 - val_accuracy: 0.7108 - val_loss: 0.6217\n",
      "Epoch 25/50\n",
      "\u001b[1m86/86\u001b[0m \u001b[32m━━━━━━━━━━━━━━━━━━━━\u001b[0m\u001b[37m\u001b[0m \u001b[1m3s\u001b[0m 33ms/step - accuracy: 0.8164 - loss: 0.3755 - val_accuracy: 0.7035 - val_loss: 0.6275\n",
      "Epoch 26/50\n",
      "\u001b[1m86/86\u001b[0m \u001b[32m━━━━━━━━━━━━━━━━━━━━\u001b[0m\u001b[37m\u001b[0m \u001b[1m3s\u001b[0m 33ms/step - accuracy: 0.8039 - loss: 0.3928 - val_accuracy: 0.6802 - val_loss: 0.6345\n",
      "Epoch 27/50\n",
      "\u001b[1m86/86\u001b[0m \u001b[32m━━━━━━━━━━━━━━━━━━━━\u001b[0m\u001b[37m\u001b[0m \u001b[1m3s\u001b[0m 36ms/step - accuracy: 0.8267 - loss: 0.3660 - val_accuracy: 0.6897 - val_loss: 0.6724\n",
      "Epoch 28/50\n",
      "\u001b[1m86/86\u001b[0m \u001b[32m━━━━━━━━━━━━━━━━━━━━\u001b[0m\u001b[37m\u001b[0m \u001b[1m3s\u001b[0m 35ms/step - accuracy: 0.8286 - loss: 0.3563 - val_accuracy: 0.6999 - val_loss: 0.6975\n",
      "Epoch 29/50\n",
      "\u001b[1m86/86\u001b[0m \u001b[32m━━━━━━━━━━━━━━━━━━━━\u001b[0m\u001b[37m\u001b[0m \u001b[1m3s\u001b[0m 34ms/step - accuracy: 0.8315 - loss: 0.3541 - val_accuracy: 0.6860 - val_loss: 0.6558\n",
      "Epoch 30/50\n",
      "\u001b[1m86/86\u001b[0m \u001b[32m━━━━━━━━━━━━━━━━━━━━\u001b[0m\u001b[37m\u001b[0m \u001b[1m3s\u001b[0m 36ms/step - accuracy: 0.8432 - loss: 0.3359 - val_accuracy: 0.6635 - val_loss: 0.6677\n",
      "Epoch 31/50\n",
      "\u001b[1m86/86\u001b[0m \u001b[32m━━━━━━━━━━━━━━━━━━━━\u001b[0m\u001b[37m\u001b[0m \u001b[1m3s\u001b[0m 36ms/step - accuracy: 0.8342 - loss: 0.3437 - val_accuracy: 0.6984 - val_loss: 0.7560\n",
      "Epoch 32/50\n",
      "\u001b[1m86/86\u001b[0m \u001b[32m━━━━━━━━━━━━━━━━━━━━\u001b[0m\u001b[37m\u001b[0m \u001b[1m3s\u001b[0m 34ms/step - accuracy: 0.8487 - loss: 0.3243 - val_accuracy: 0.6831 - val_loss: 0.7417\n",
      "Epoch 33/50\n",
      "\u001b[1m86/86\u001b[0m \u001b[32m━━━━━━━━━━━━━━━━━━━━\u001b[0m\u001b[37m\u001b[0m \u001b[1m3s\u001b[0m 34ms/step - accuracy: 0.8388 - loss: 0.3302 - val_accuracy: 0.6999 - val_loss: 0.7773\n",
      "Epoch 34/50\n",
      "\u001b[1m86/86\u001b[0m \u001b[32m━━━━━━━━━━━━━━━━━━━━\u001b[0m\u001b[37m\u001b[0m \u001b[1m3s\u001b[0m 39ms/step - accuracy: 0.8415 - loss: 0.3289 - val_accuracy: 0.6860 - val_loss: 0.8205\n",
      "Epoch 35/50\n",
      "\u001b[1m86/86\u001b[0m \u001b[32m━━━━━━━━━━━━━━━━━━━━\u001b[0m\u001b[37m\u001b[0m \u001b[1m3s\u001b[0m 35ms/step - accuracy: 0.8478 - loss: 0.3222 - val_accuracy: 0.6948 - val_loss: 0.7832\n",
      "Epoch 36/50\n",
      "\u001b[1m86/86\u001b[0m \u001b[32m━━━━━━━━━━━━━━━━━━━━\u001b[0m\u001b[37m\u001b[0m \u001b[1m3s\u001b[0m 33ms/step - accuracy: 0.8509 - loss: 0.3122 - val_accuracy: 0.6759 - val_loss: 0.6980\n",
      "Epoch 37/50\n",
      "\u001b[1m86/86\u001b[0m \u001b[32m━━━━━━━━━━━━━━━━━━━━\u001b[0m\u001b[37m\u001b[0m \u001b[1m3s\u001b[0m 36ms/step - accuracy: 0.8625 - loss: 0.3114 - val_accuracy: 0.6962 - val_loss: 0.8151\n",
      "Epoch 38/50\n",
      "\u001b[1m86/86\u001b[0m \u001b[32m━━━━━━━━━━━━━━━━━━━━\u001b[0m\u001b[37m\u001b[0m \u001b[1m3s\u001b[0m 33ms/step - accuracy: 0.8625 - loss: 0.2979 - val_accuracy: 0.6824 - val_loss: 0.8440\n",
      "Epoch 39/50\n",
      "\u001b[1m86/86\u001b[0m \u001b[32m━━━━━━━━━━━━━━━━━━━━\u001b[0m\u001b[37m\u001b[0m \u001b[1m3s\u001b[0m 32ms/step - accuracy: 0.8654 - loss: 0.2916 - val_accuracy: 0.7006 - val_loss: 0.8257\n",
      "Epoch 40/50\n",
      "\u001b[1m86/86\u001b[0m \u001b[32m━━━━━━━━━━━━━━━━━━━━\u001b[0m\u001b[37m\u001b[0m \u001b[1m3s\u001b[0m 34ms/step - accuracy: 0.8686 - loss: 0.2826 - val_accuracy: 0.6773 - val_loss: 0.7715\n",
      "Epoch 41/50\n",
      "\u001b[1m86/86\u001b[0m \u001b[32m━━━━━━━━━━━━━━━━━━━━\u001b[0m\u001b[37m\u001b[0m \u001b[1m3s\u001b[0m 37ms/step - accuracy: 0.8663 - loss: 0.2880 - val_accuracy: 0.6962 - val_loss: 0.9273\n",
      "Epoch 42/50\n",
      "\u001b[1m86/86\u001b[0m \u001b[32m━━━━━━━━━━━━━━━━━━━━\u001b[0m\u001b[37m\u001b[0m \u001b[1m3s\u001b[0m 34ms/step - accuracy: 0.8799 - loss: 0.2802 - val_accuracy: 0.6977 - val_loss: 0.9153\n",
      "Epoch 43/50\n",
      "\u001b[1m86/86\u001b[0m \u001b[32m━━━━━━━━━━━━━━━━━━━━\u001b[0m\u001b[37m\u001b[0m \u001b[1m3s\u001b[0m 32ms/step - accuracy: 0.8718 - loss: 0.2686 - val_accuracy: 0.6875 - val_loss: 0.9765\n",
      "Epoch 44/50\n",
      "\u001b[1m86/86\u001b[0m \u001b[32m━━━━━━━━━━━━━━━━━━━━\u001b[0m\u001b[37m\u001b[0m \u001b[1m3s\u001b[0m 34ms/step - accuracy: 0.8812 - loss: 0.2555 - val_accuracy: 0.6795 - val_loss: 0.8857\n",
      "Epoch 45/50\n",
      "\u001b[1m86/86\u001b[0m \u001b[32m━━━━━━━━━━━━━━━━━━━━\u001b[0m\u001b[37m\u001b[0m \u001b[1m3s\u001b[0m 36ms/step - accuracy: 0.8685 - loss: 0.2772 - val_accuracy: 0.6911 - val_loss: 0.9385\n",
      "Epoch 46/50\n",
      "\u001b[1m86/86\u001b[0m \u001b[32m━━━━━━━━━━━━━━━━━━━━\u001b[0m\u001b[37m\u001b[0m \u001b[1m3s\u001b[0m 37ms/step - accuracy: 0.8797 - loss: 0.2589 - val_accuracy: 0.6890 - val_loss: 0.8965\n",
      "Epoch 47/50\n",
      "\u001b[1m86/86\u001b[0m \u001b[32m━━━━━━━━━━━━━━━━━━━━\u001b[0m\u001b[37m\u001b[0m \u001b[1m3s\u001b[0m 34ms/step - accuracy: 0.8842 - loss: 0.2581 - val_accuracy: 0.6751 - val_loss: 0.9501\n",
      "Epoch 48/50\n",
      "\u001b[1m86/86\u001b[0m \u001b[32m━━━━━━━━━━━━━━━━━━━━\u001b[0m\u001b[37m\u001b[0m \u001b[1m3s\u001b[0m 36ms/step - accuracy: 0.8968 - loss: 0.2306 - val_accuracy: 0.6810 - val_loss: 0.9148\n",
      "Epoch 49/50\n",
      "\u001b[1m86/86\u001b[0m \u001b[32m━━━━━━━━━━━━━━━━━━━━\u001b[0m\u001b[37m\u001b[0m \u001b[1m3s\u001b[0m 35ms/step - accuracy: 0.8937 - loss: 0.2482 - val_accuracy: 0.6926 - val_loss: 0.9412\n",
      "Epoch 50/50\n",
      "\u001b[1m86/86\u001b[0m \u001b[32m━━━━━━━━━━━━━━━━━━━━\u001b[0m\u001b[37m\u001b[0m \u001b[1m3s\u001b[0m 35ms/step - accuracy: 0.8972 - loss: 0.2355 - val_accuracy: 0.6919 - val_loss: 1.0653\n"
     ]
    }
   ],
   "source": [
    "history = model.fit(X_train, y_train, epochs=50, batch_size=64, validation_split=0.2)#, callbacks=[callback])\n"
   ]
  },
  {
   "cell_type": "markdown",
   "id": "45e91639-6717-45a7-8156-a3f1adf17442",
   "metadata": {},
   "source": [
    "The most important metric in our case is the F1 score. As we saw above, our values are skewed so it could theoretically learn to just predict poisonous for all of them and still get a fairly good accuracy. The F1 score allows us to circumvent that by looking at both precision and recall as metrics to validate our model. We won't go into the specifics here, but Precision can be thought of as \"of all the instances the model predicted as positive, how many were actually positive?\" while recall can be thought of as \"Of all the actual positive instances, how many did the model correctly predict as positive?\". This score ranges from 0 to 1, and the maximum value I achieved of ~.834 indicates a very good fit for the model. Let's take a look at the F1 score now!\n",
    "\n",
    "\t\n",
    " "
   ]
  },
  {
   "cell_type": "code",
   "execution_count": null,
   "id": "9fcae7a4-a593-4a29-9ac9-14708838bd20",
   "metadata": {},
   "outputs": [],
   "source": [
    "y_pred = model.predict(X_test)\n",
    "y_pred_binary = (y_pred > 0.5).astype(int)\n",
    "\n",
    "f1 = f1_score(y_test, y_pred_binary)\n",
    "print(f'F1 Score: {f1}')"
   ]
  },
  {
   "cell_type": "markdown",
   "id": "f88e2cc3-4ee6-4d5c-a666-0ce908a1dfba",
   "metadata": {},
   "source": [
    "So we have our F1 score! Nice work (unless you botched hyperparameter tuning and got a bad F1 score, in which case welcome to the life!). Let's take a look at how the accuracy and loss change as a function of # of epochs (basically as a function of time). The ideal thing to see here is that the orange lines representing our validation sets are getting higher accuracy and lower loss, but that's not always true your first runthrough. This takes hyperparameter tuning to try to minimize, and may take alteration of your NN model or even inclusion of new models to make the algorithm more complex, there are a variety of things that can be changed. Luckily there are also various optimization strategies for making that work a little less labor-intensive."
   ]
  },
  {
   "cell_type": "code",
   "execution_count": null,
   "id": "89215324-183a-4eff-8259-fb7108ac250b",
   "metadata": {},
   "outputs": [],
   "source": [
    "# Plot training & validation accuracy values\n",
    "plt.plot(history.history['accuracy'])\n",
    "plt.plot(history.history['val_accuracy'])\n",
    "plt.title('Model accuracy')\n",
    "plt.ylabel('Accuracy')\n",
    "plt.xlabel('Epoch')\n",
    "plt.legend(['Train', 'Validation'], loc='upper left')\n",
    "plt.show()\n",
    "\n",
    "# Plot training & validation loss values\n",
    "plt.plot(history.history['loss'])\n",
    "plt.plot(history.history['val_loss'])\n",
    "plt.title('Model loss')\n",
    "plt.ylabel('Loss')\n",
    "plt.xlabel('Epoch')\n",
    "plt.legend(['Train', 'Validation'], loc='upper left')\n",
    "plt.show()\n",
    "\n",
    "\n",
    "loss, accuracy = model.evaluate(X_test, y_test)\n",
    "print(f'Test Accuracy: {accuracy}')\n"
   ]
  },
  {
   "cell_type": "markdown",
   "id": "11f48287-affd-4a76-900e-d6335a1955f2",
   "metadata": {},
   "source": [
    "So that's it, you've just built and trained your (probably) first NN model! Now let's get into actually testing it! We'll look at accuracy, precision, hamming loss (fraction of incorrect predictions), and of course F1 score. We've already discussed most of these concepts, so I'm just going to cram it all into one section. REMEMBER: this is just a fun little way to introduce yourself to NNs, it's likely that this will not do an awesome job at keeping you from being poisoned so don't be upset if our graph indicates that 5 or more people die. Keep in mind as well that \n",
    "\n",
    "\n"
   ]
  },
  {
   "cell_type": "code",
   "execution_count": null,
   "id": "ac82f3d8-2e90-4334-94d7-8ee881ae446b",
   "metadata": {},
   "outputs": [],
   "source": [
    "# Evaluate model\n",
    "loss, accuracy = model.evaluate(X_test, y_test)\n",
    "print(f'Test Accuracy: {accuracy}')\n",
    "\n",
    "# Predict on test data\n",
    "y_pred = model.predict(X_test)\n",
    "y_pred_binary = (y_pred > 0.5).astype(int)  # Convert probabilities to binary predictions\n",
    "\n",
    "# Calculate Hamming Loss\n",
    "h_loss = hamming_loss(y_test, y_pred_binary)\n",
    "print(f'Hamming Loss: {h_loss}')\n",
    "\n",
    "# Calculate F1 Score (Micro and Macro)\n",
    "f1_micro = f1_score(y_test, y_pred_binary, average='micro')\n",
    "f1_macro = f1_score(y_test, y_pred_binary, average='macro')\n",
    "print(f'F1 Score (Micro): {f1_micro}')\n",
    "print(f'F1 Score (Macro): {f1_macro}')\n",
    "\n",
    "# Plotting the first few actual vs predicted for visual inspection\n",
    "start = np.random.randint(0,100)\n",
    "end = start + 20\n",
    "print(f\"starting value is {start}\")\n",
    "plt.figure(figsize=(12, 6))\n",
    "plt.plot(y_test[start:end], 'ro', label='Actual')\n",
    "plt.plot(y_pred_binary[start:end], 'bx', label='Predicted')\n",
    "plt.title('Actual vs Predicted Labels (20 random samples)')\n",
    "plt.legend(loc='upper right')\n",
    "plt.show()"
   ]
  },
  {
   "cell_type": "code",
   "execution_count": null,
   "id": "7837b708-c7c3-41c9-8556-51afcc63e9c0",
   "metadata": {},
   "outputs": [],
   "source": []
  }
 ],
 "metadata": {
  "kernelspec": {
   "display_name": "Python 3 (ipykernel)",
   "language": "python",
   "name": "python3"
  },
  "language_info": {
   "codemirror_mode": {
    "name": "ipython",
    "version": 3
   },
   "file_extension": ".py",
   "mimetype": "text/x-python",
   "name": "python",
   "nbconvert_exporter": "python",
   "pygments_lexer": "ipython3",
   "version": "3.10.0"
  }
 },
 "nbformat": 4,
 "nbformat_minor": 5
}
